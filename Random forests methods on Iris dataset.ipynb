{
 "cells": [
  {
   "cell_type": "code",
   "execution_count": 1,
   "metadata": {
    "collapsed": false
   },
   "outputs": [],
   "source": [
    "from sklearn import datasets\n",
    "from sklearn.ensemble import RandomForestClassifier\n",
    "\n",
    "iris = datasets.load_iris()\n",
    "m = RandomForestClassifier()\n",
    "\n"
   ]
  },
  {
   "cell_type": "code",
   "execution_count": 3,
   "metadata": {
    "collapsed": false
   },
   "outputs": [
    {
     "data": {
      "text/plain": [
       "RandomForestClassifier(bootstrap=True, class_weight=None, criterion='gini',\n",
       "            max_depth=None, max_features='auto', max_leaf_nodes=None,\n",
       "            min_impurity_split=1e-07, min_samples_leaf=1,\n",
       "            min_samples_split=2, min_weight_fraction_leaf=0.0,\n",
       "            n_estimators=10, n_jobs=1, oob_score=False, random_state=None,\n",
       "            verbose=0, warm_start=False)"
      ]
     },
     "execution_count": 3,
     "metadata": {},
     "output_type": "execute_result"
    }
   ],
   "source": [
    "m.fit(iris.data,iris.target)"
   ]
  },
  {
   "cell_type": "code",
   "execution_count": 4,
   "metadata": {
    "collapsed": false
   },
   "outputs": [
    {
     "data": {
      "text/plain": [
       "array([[ 1,  1, 13, ...,  1,  2,  7],\n",
       "       [ 1,  1,  3, ...,  1,  2,  7],\n",
       "       [ 1,  1, 13, ...,  1,  2,  7],\n",
       "       ..., \n",
       "       [22, 16, 11, ..., 20, 16, 20],\n",
       "       [22, 16, 16, ..., 20, 16, 20],\n",
       "       [11, 15, 11, ...,  9, 16, 20]])"
      ]
     },
     "execution_count": 4,
     "metadata": {},
     "output_type": "execute_result"
    }
   ],
   "source": [
    "m.apply(iris.data)"
   ]
  },
  {
   "cell_type": "code",
   "execution_count": 5,
   "metadata": {
    "collapsed": false
   },
   "outputs": [
    {
     "data": {
      "text/plain": [
       "(<150x174 sparse matrix of type '<class 'numpy.int64'>'\n",
       " \twith 5512 stored elements in Compressed Sparse Row format>,\n",
       " array([  0,  23,  40,  57,  70,  81, 102, 115, 136, 153, 174]))"
      ]
     },
     "execution_count": 5,
     "metadata": {},
     "output_type": "execute_result"
    }
   ],
   "source": [
    "m.decision_path(iris.data)"
   ]
  },
  {
   "cell_type": "code",
   "execution_count": 6,
   "metadata": {
    "collapsed": false
   },
   "outputs": [
    {
     "name": "stderr",
     "output_type": "stream",
     "text": [
      "/home/harish/anaconda3/lib/python3.5/site-packages/sklearn/utils/deprecation.py:70: DeprecationWarning: Function transform is deprecated; Support to use estimators as feature selectors will be removed in version 0.19. Use SelectFromModel instead.\n",
      "  warnings.warn(msg, category=DeprecationWarning)\n"
     ]
    },
    {
     "data": {
      "text/plain": [
       "array([[ 1.4,  0.2],\n",
       "       [ 1.4,  0.2],\n",
       "       [ 1.3,  0.2],\n",
       "       [ 1.5,  0.2],\n",
       "       [ 1.4,  0.2],\n",
       "       [ 1.7,  0.4],\n",
       "       [ 1.4,  0.3],\n",
       "       [ 1.5,  0.2],\n",
       "       [ 1.4,  0.2],\n",
       "       [ 1.5,  0.1],\n",
       "       [ 1.5,  0.2],\n",
       "       [ 1.6,  0.2],\n",
       "       [ 1.4,  0.1],\n",
       "       [ 1.1,  0.1],\n",
       "       [ 1.2,  0.2],\n",
       "       [ 1.5,  0.4],\n",
       "       [ 1.3,  0.4],\n",
       "       [ 1.4,  0.3],\n",
       "       [ 1.7,  0.3],\n",
       "       [ 1.5,  0.3],\n",
       "       [ 1.7,  0.2],\n",
       "       [ 1.5,  0.4],\n",
       "       [ 1. ,  0.2],\n",
       "       [ 1.7,  0.5],\n",
       "       [ 1.9,  0.2],\n",
       "       [ 1.6,  0.2],\n",
       "       [ 1.6,  0.4],\n",
       "       [ 1.5,  0.2],\n",
       "       [ 1.4,  0.2],\n",
       "       [ 1.6,  0.2],\n",
       "       [ 1.6,  0.2],\n",
       "       [ 1.5,  0.4],\n",
       "       [ 1.5,  0.1],\n",
       "       [ 1.4,  0.2],\n",
       "       [ 1.5,  0.1],\n",
       "       [ 1.2,  0.2],\n",
       "       [ 1.3,  0.2],\n",
       "       [ 1.5,  0.1],\n",
       "       [ 1.3,  0.2],\n",
       "       [ 1.5,  0.2],\n",
       "       [ 1.3,  0.3],\n",
       "       [ 1.3,  0.3],\n",
       "       [ 1.3,  0.2],\n",
       "       [ 1.6,  0.6],\n",
       "       [ 1.9,  0.4],\n",
       "       [ 1.4,  0.3],\n",
       "       [ 1.6,  0.2],\n",
       "       [ 1.4,  0.2],\n",
       "       [ 1.5,  0.2],\n",
       "       [ 1.4,  0.2],\n",
       "       [ 4.7,  1.4],\n",
       "       [ 4.5,  1.5],\n",
       "       [ 4.9,  1.5],\n",
       "       [ 4. ,  1.3],\n",
       "       [ 4.6,  1.5],\n",
       "       [ 4.5,  1.3],\n",
       "       [ 4.7,  1.6],\n",
       "       [ 3.3,  1. ],\n",
       "       [ 4.6,  1.3],\n",
       "       [ 3.9,  1.4],\n",
       "       [ 3.5,  1. ],\n",
       "       [ 4.2,  1.5],\n",
       "       [ 4. ,  1. ],\n",
       "       [ 4.7,  1.4],\n",
       "       [ 3.6,  1.3],\n",
       "       [ 4.4,  1.4],\n",
       "       [ 4.5,  1.5],\n",
       "       [ 4.1,  1. ],\n",
       "       [ 4.5,  1.5],\n",
       "       [ 3.9,  1.1],\n",
       "       [ 4.8,  1.8],\n",
       "       [ 4. ,  1.3],\n",
       "       [ 4.9,  1.5],\n",
       "       [ 4.7,  1.2],\n",
       "       [ 4.3,  1.3],\n",
       "       [ 4.4,  1.4],\n",
       "       [ 4.8,  1.4],\n",
       "       [ 5. ,  1.7],\n",
       "       [ 4.5,  1.5],\n",
       "       [ 3.5,  1. ],\n",
       "       [ 3.8,  1.1],\n",
       "       [ 3.7,  1. ],\n",
       "       [ 3.9,  1.2],\n",
       "       [ 5.1,  1.6],\n",
       "       [ 4.5,  1.5],\n",
       "       [ 4.5,  1.6],\n",
       "       [ 4.7,  1.5],\n",
       "       [ 4.4,  1.3],\n",
       "       [ 4.1,  1.3],\n",
       "       [ 4. ,  1.3],\n",
       "       [ 4.4,  1.2],\n",
       "       [ 4.6,  1.4],\n",
       "       [ 4. ,  1.2],\n",
       "       [ 3.3,  1. ],\n",
       "       [ 4.2,  1.3],\n",
       "       [ 4.2,  1.2],\n",
       "       [ 4.2,  1.3],\n",
       "       [ 4.3,  1.3],\n",
       "       [ 3. ,  1.1],\n",
       "       [ 4.1,  1.3],\n",
       "       [ 6. ,  2.5],\n",
       "       [ 5.1,  1.9],\n",
       "       [ 5.9,  2.1],\n",
       "       [ 5.6,  1.8],\n",
       "       [ 5.8,  2.2],\n",
       "       [ 6.6,  2.1],\n",
       "       [ 4.5,  1.7],\n",
       "       [ 6.3,  1.8],\n",
       "       [ 5.8,  1.8],\n",
       "       [ 6.1,  2.5],\n",
       "       [ 5.1,  2. ],\n",
       "       [ 5.3,  1.9],\n",
       "       [ 5.5,  2.1],\n",
       "       [ 5. ,  2. ],\n",
       "       [ 5.1,  2.4],\n",
       "       [ 5.3,  2.3],\n",
       "       [ 5.5,  1.8],\n",
       "       [ 6.7,  2.2],\n",
       "       [ 6.9,  2.3],\n",
       "       [ 5. ,  1.5],\n",
       "       [ 5.7,  2.3],\n",
       "       [ 4.9,  2. ],\n",
       "       [ 6.7,  2. ],\n",
       "       [ 4.9,  1.8],\n",
       "       [ 5.7,  2.1],\n",
       "       [ 6. ,  1.8],\n",
       "       [ 4.8,  1.8],\n",
       "       [ 4.9,  1.8],\n",
       "       [ 5.6,  2.1],\n",
       "       [ 5.8,  1.6],\n",
       "       [ 6.1,  1.9],\n",
       "       [ 6.4,  2. ],\n",
       "       [ 5.6,  2.2],\n",
       "       [ 5.1,  1.5],\n",
       "       [ 5.6,  1.4],\n",
       "       [ 6.1,  2.3],\n",
       "       [ 5.6,  2.4],\n",
       "       [ 5.5,  1.8],\n",
       "       [ 4.8,  1.8],\n",
       "       [ 5.4,  2.1],\n",
       "       [ 5.6,  2.4],\n",
       "       [ 5.1,  2.3],\n",
       "       [ 5.1,  1.9],\n",
       "       [ 5.9,  2.3],\n",
       "       [ 5.7,  2.5],\n",
       "       [ 5.2,  2.3],\n",
       "       [ 5. ,  1.9],\n",
       "       [ 5.2,  2. ],\n",
       "       [ 5.4,  2.3],\n",
       "       [ 5.1,  1.8]])"
      ]
     },
     "execution_count": 6,
     "metadata": {},
     "output_type": "execute_result"
    }
   ],
   "source": [
    "m.fit_transform(iris.data,iris.target)"
   ]
  },
  {
   "cell_type": "code",
   "execution_count": 7,
   "metadata": {
    "collapsed": false
   },
   "outputs": [
    {
     "data": {
      "text/plain": [
       "{'bootstrap': True,\n",
       " 'class_weight': None,\n",
       " 'criterion': 'gini',\n",
       " 'max_depth': None,\n",
       " 'max_features': 'auto',\n",
       " 'max_leaf_nodes': None,\n",
       " 'min_impurity_split': 1e-07,\n",
       " 'min_samples_leaf': 1,\n",
       " 'min_samples_split': 2,\n",
       " 'min_weight_fraction_leaf': 0.0,\n",
       " 'n_estimators': 10,\n",
       " 'n_jobs': 1,\n",
       " 'oob_score': False,\n",
       " 'random_state': None,\n",
       " 'verbose': 0,\n",
       " 'warm_start': False}"
      ]
     },
     "execution_count": 7,
     "metadata": {},
     "output_type": "execute_result"
    }
   ],
   "source": [
    "m.get_params()"
   ]
  },
  {
   "cell_type": "code",
   "execution_count": 8,
   "metadata": {
    "collapsed": false
   },
   "outputs": [
    {
     "data": {
      "text/plain": [
       "array([0, 0, 0, 0, 0, 0, 0, 0, 0, 0, 0, 0, 0, 0, 0, 0, 0, 0, 0, 0, 0, 0, 0,\n",
       "       0, 0, 0, 0, 0, 0, 0, 0, 0, 0, 0, 0, 0, 0, 0, 0, 0, 0, 0, 0, 0, 0, 0,\n",
       "       0, 0, 0, 0, 1, 1, 1, 1, 1, 1, 1, 1, 1, 1, 1, 1, 1, 1, 1, 1, 1, 1, 1,\n",
       "       1, 1, 1, 1, 1, 1, 1, 1, 1, 1, 1, 1, 1, 1, 1, 1, 1, 1, 1, 1, 1, 1, 1,\n",
       "       1, 1, 1, 1, 1, 1, 1, 1, 2, 2, 2, 2, 2, 2, 2, 2, 2, 2, 2, 2, 2, 2, 2,\n",
       "       2, 2, 2, 2, 2, 2, 2, 2, 2, 2, 2, 2, 2, 2, 2, 2, 2, 2, 2, 2, 2, 2, 2,\n",
       "       2, 2, 2, 2, 2, 2, 2, 2, 2, 2, 2, 2])"
      ]
     },
     "execution_count": 8,
     "metadata": {},
     "output_type": "execute_result"
    }
   ],
   "source": [
    "m.predict(iris.data)"
   ]
  },
  {
   "cell_type": "code",
   "execution_count": 9,
   "metadata": {
    "collapsed": false
   },
   "outputs": [
    {
     "name": "stderr",
     "output_type": "stream",
     "text": [
      "/home/harish/anaconda3/lib/python3.5/site-packages/sklearn/ensemble/forest.py:628: RuntimeWarning: divide by zero encountered in log\n",
      "  return np.log(proba)\n"
     ]
    },
    {
     "data": {
      "text/plain": [
       "array([[ 0.        ,        -inf,        -inf],\n",
       "       [ 0.        ,        -inf,        -inf],\n",
       "       [ 0.        ,        -inf,        -inf],\n",
       "       [ 0.        ,        -inf,        -inf],\n",
       "       [ 0.        ,        -inf,        -inf],\n",
       "       [ 0.        ,        -inf,        -inf],\n",
       "       [ 0.        ,        -inf,        -inf],\n",
       "       [ 0.        ,        -inf,        -inf],\n",
       "       [ 0.        ,        -inf,        -inf],\n",
       "       [ 0.        ,        -inf,        -inf],\n",
       "       [ 0.        ,        -inf,        -inf],\n",
       "       [ 0.        ,        -inf,        -inf],\n",
       "       [ 0.        ,        -inf,        -inf],\n",
       "       [ 0.        ,        -inf,        -inf],\n",
       "       [ 0.        ,        -inf,        -inf],\n",
       "       [ 0.        ,        -inf,        -inf],\n",
       "       [ 0.        ,        -inf,        -inf],\n",
       "       [ 0.        ,        -inf,        -inf],\n",
       "       [ 0.        ,        -inf,        -inf],\n",
       "       [ 0.        ,        -inf,        -inf],\n",
       "       [ 0.        ,        -inf,        -inf],\n",
       "       [ 0.        ,        -inf,        -inf],\n",
       "       [ 0.        ,        -inf,        -inf],\n",
       "       [ 0.        ,        -inf,        -inf],\n",
       "       [ 0.        ,        -inf,        -inf],\n",
       "       [ 0.        ,        -inf,        -inf],\n",
       "       [ 0.        ,        -inf,        -inf],\n",
       "       [ 0.        ,        -inf,        -inf],\n",
       "       [ 0.        ,        -inf,        -inf],\n",
       "       [ 0.        ,        -inf,        -inf],\n",
       "       [ 0.        ,        -inf,        -inf],\n",
       "       [ 0.        ,        -inf,        -inf],\n",
       "       [ 0.        ,        -inf,        -inf],\n",
       "       [ 0.        ,        -inf,        -inf],\n",
       "       [ 0.        ,        -inf,        -inf],\n",
       "       [ 0.        ,        -inf,        -inf],\n",
       "       [ 0.        ,        -inf,        -inf],\n",
       "       [ 0.        ,        -inf,        -inf],\n",
       "       [ 0.        ,        -inf,        -inf],\n",
       "       [ 0.        ,        -inf,        -inf],\n",
       "       [ 0.        ,        -inf,        -inf],\n",
       "       [ 0.        ,        -inf,        -inf],\n",
       "       [ 0.        ,        -inf,        -inf],\n",
       "       [ 0.        ,        -inf,        -inf],\n",
       "       [ 0.        ,        -inf,        -inf],\n",
       "       [ 0.        ,        -inf,        -inf],\n",
       "       [ 0.        ,        -inf,        -inf],\n",
       "       [ 0.        ,        -inf,        -inf],\n",
       "       [ 0.        ,        -inf,        -inf],\n",
       "       [ 0.        ,        -inf,        -inf],\n",
       "       [       -inf,  0.        ,        -inf],\n",
       "       [       -inf,  0.        ,        -inf],\n",
       "       [       -inf,  0.        ,        -inf],\n",
       "       [       -inf,  0.        ,        -inf],\n",
       "       [       -inf, -0.10536052, -2.30258509],\n",
       "       [       -inf,  0.        ,        -inf],\n",
       "       [       -inf,  0.        ,        -inf],\n",
       "       [       -inf, -0.10536052, -2.30258509],\n",
       "       [       -inf,  0.        ,        -inf],\n",
       "       [       -inf,  0.        ,        -inf],\n",
       "       [       -inf, -0.10536052, -2.30258509],\n",
       "       [       -inf,  0.        ,        -inf],\n",
       "       [       -inf, -0.35667494, -1.2039728 ],\n",
       "       [       -inf,  0.        ,        -inf],\n",
       "       [       -inf,  0.        ,        -inf],\n",
       "       [       -inf,  0.        ,        -inf],\n",
       "       [       -inf,  0.        ,        -inf],\n",
       "       [       -inf,  0.        ,        -inf],\n",
       "       [       -inf, -0.51082562, -0.91629073],\n",
       "       [       -inf,  0.        ,        -inf],\n",
       "       [       -inf, -0.35667494, -1.2039728 ],\n",
       "       [       -inf,  0.        ,        -inf],\n",
       "       [       -inf, -0.22314355, -1.60943791],\n",
       "       [       -inf,  0.        ,        -inf],\n",
       "       [       -inf,  0.        ,        -inf],\n",
       "       [       -inf,  0.        ,        -inf],\n",
       "       [       -inf,  0.        ,        -inf],\n",
       "       [       -inf, -0.10536052, -2.30258509],\n",
       "       [       -inf,  0.        ,        -inf],\n",
       "       [       -inf,  0.        ,        -inf],\n",
       "       [       -inf,  0.        ,        -inf],\n",
       "       [       -inf,  0.        ,        -inf],\n",
       "       [       -inf,  0.        ,        -inf],\n",
       "       [       -inf, -0.51082562, -0.91629073],\n",
       "       [       -inf,  0.        ,        -inf],\n",
       "       [       -inf,  0.        ,        -inf],\n",
       "       [       -inf,  0.        ,        -inf],\n",
       "       [       -inf,  0.        ,        -inf],\n",
       "       [       -inf,  0.        ,        -inf],\n",
       "       [       -inf,  0.        ,        -inf],\n",
       "       [       -inf,  0.        ,        -inf],\n",
       "       [       -inf,  0.        ,        -inf],\n",
       "       [       -inf,  0.        ,        -inf],\n",
       "       [       -inf,  0.        ,        -inf],\n",
       "       [       -inf,  0.        ,        -inf],\n",
       "       [       -inf,  0.        ,        -inf],\n",
       "       [       -inf,  0.        ,        -inf],\n",
       "       [       -inf,  0.        ,        -inf],\n",
       "       [       -inf,  0.        ,        -inf],\n",
       "       [       -inf,  0.        ,        -inf],\n",
       "       [       -inf,        -inf,  0.        ],\n",
       "       [       -inf,        -inf,  0.        ],\n",
       "       [       -inf,        -inf,  0.        ],\n",
       "       [       -inf,        -inf,  0.        ],\n",
       "       [       -inf,        -inf,  0.        ],\n",
       "       [       -inf,        -inf,  0.        ],\n",
       "       [       -inf, -1.60943791, -0.22314355],\n",
       "       [       -inf,        -inf,  0.        ],\n",
       "       [       -inf,        -inf,  0.        ],\n",
       "       [       -inf,        -inf,  0.        ],\n",
       "       [       -inf,        -inf,  0.        ],\n",
       "       [       -inf,        -inf,  0.        ],\n",
       "       [       -inf,        -inf,  0.        ],\n",
       "       [       -inf,        -inf,  0.        ],\n",
       "       [       -inf,        -inf,  0.        ],\n",
       "       [       -inf,        -inf,  0.        ],\n",
       "       [       -inf,        -inf,  0.        ],\n",
       "       [       -inf,        -inf,  0.        ],\n",
       "       [       -inf,        -inf,  0.        ],\n",
       "       [       -inf, -1.2039728 , -0.35667494],\n",
       "       [       -inf,        -inf,  0.        ],\n",
       "       [       -inf,        -inf,  0.        ],\n",
       "       [       -inf,        -inf,  0.        ],\n",
       "       [       -inf,        -inf,  0.        ],\n",
       "       [       -inf,        -inf,  0.        ],\n",
       "       [       -inf,        -inf,  0.        ],\n",
       "       [       -inf, -2.30258509, -0.10536052],\n",
       "       [       -inf,        -inf,  0.        ],\n",
       "       [       -inf,        -inf,  0.        ],\n",
       "       [       -inf, -2.30258509, -0.10536052],\n",
       "       [       -inf,        -inf,  0.        ],\n",
       "       [       -inf,        -inf,  0.        ],\n",
       "       [       -inf,        -inf,  0.        ],\n",
       "       [       -inf, -1.2039728 , -0.35667494],\n",
       "       [       -inf, -1.60943791, -0.22314355],\n",
       "       [       -inf,        -inf,  0.        ],\n",
       "       [       -inf,        -inf,  0.        ],\n",
       "       [       -inf,        -inf,  0.        ],\n",
       "       [       -inf, -2.30258509, -0.10536052],\n",
       "       [       -inf,        -inf,  0.        ],\n",
       "       [       -inf,        -inf,  0.        ],\n",
       "       [       -inf,        -inf,  0.        ],\n",
       "       [       -inf,        -inf,  0.        ],\n",
       "       [       -inf,        -inf,  0.        ],\n",
       "       [       -inf,        -inf,  0.        ],\n",
       "       [       -inf,        -inf,  0.        ],\n",
       "       [       -inf,        -inf,  0.        ],\n",
       "       [       -inf,        -inf,  0.        ],\n",
       "       [       -inf,        -inf,  0.        ],\n",
       "       [       -inf,        -inf,  0.        ]])"
      ]
     },
     "execution_count": 9,
     "metadata": {},
     "output_type": "execute_result"
    }
   ],
   "source": [
    "m.predict_log_proba(iris.data)"
   ]
  },
  {
   "cell_type": "code",
   "execution_count": 10,
   "metadata": {
    "collapsed": false
   },
   "outputs": [
    {
     "data": {
      "text/plain": [
       "array([[ 1. ,  0. ,  0. ],\n",
       "       [ 1. ,  0. ,  0. ],\n",
       "       [ 1. ,  0. ,  0. ],\n",
       "       [ 1. ,  0. ,  0. ],\n",
       "       [ 1. ,  0. ,  0. ],\n",
       "       [ 1. ,  0. ,  0. ],\n",
       "       [ 1. ,  0. ,  0. ],\n",
       "       [ 1. ,  0. ,  0. ],\n",
       "       [ 1. ,  0. ,  0. ],\n",
       "       [ 1. ,  0. ,  0. ],\n",
       "       [ 1. ,  0. ,  0. ],\n",
       "       [ 1. ,  0. ,  0. ],\n",
       "       [ 1. ,  0. ,  0. ],\n",
       "       [ 1. ,  0. ,  0. ],\n",
       "       [ 1. ,  0. ,  0. ],\n",
       "       [ 1. ,  0. ,  0. ],\n",
       "       [ 1. ,  0. ,  0. ],\n",
       "       [ 1. ,  0. ,  0. ],\n",
       "       [ 1. ,  0. ,  0. ],\n",
       "       [ 1. ,  0. ,  0. ],\n",
       "       [ 1. ,  0. ,  0. ],\n",
       "       [ 1. ,  0. ,  0. ],\n",
       "       [ 1. ,  0. ,  0. ],\n",
       "       [ 1. ,  0. ,  0. ],\n",
       "       [ 1. ,  0. ,  0. ],\n",
       "       [ 1. ,  0. ,  0. ],\n",
       "       [ 1. ,  0. ,  0. ],\n",
       "       [ 1. ,  0. ,  0. ],\n",
       "       [ 1. ,  0. ,  0. ],\n",
       "       [ 1. ,  0. ,  0. ],\n",
       "       [ 1. ,  0. ,  0. ],\n",
       "       [ 1. ,  0. ,  0. ],\n",
       "       [ 1. ,  0. ,  0. ],\n",
       "       [ 1. ,  0. ,  0. ],\n",
       "       [ 1. ,  0. ,  0. ],\n",
       "       [ 1. ,  0. ,  0. ],\n",
       "       [ 1. ,  0. ,  0. ],\n",
       "       [ 1. ,  0. ,  0. ],\n",
       "       [ 1. ,  0. ,  0. ],\n",
       "       [ 1. ,  0. ,  0. ],\n",
       "       [ 1. ,  0. ,  0. ],\n",
       "       [ 1. ,  0. ,  0. ],\n",
       "       [ 1. ,  0. ,  0. ],\n",
       "       [ 1. ,  0. ,  0. ],\n",
       "       [ 1. ,  0. ,  0. ],\n",
       "       [ 1. ,  0. ,  0. ],\n",
       "       [ 1. ,  0. ,  0. ],\n",
       "       [ 1. ,  0. ,  0. ],\n",
       "       [ 1. ,  0. ,  0. ],\n",
       "       [ 1. ,  0. ,  0. ],\n",
       "       [ 0. ,  1. ,  0. ],\n",
       "       [ 0. ,  1. ,  0. ],\n",
       "       [ 0. ,  1. ,  0. ],\n",
       "       [ 0. ,  1. ,  0. ],\n",
       "       [ 0. ,  0.9,  0.1],\n",
       "       [ 0. ,  1. ,  0. ],\n",
       "       [ 0. ,  1. ,  0. ],\n",
       "       [ 0. ,  0.9,  0.1],\n",
       "       [ 0. ,  1. ,  0. ],\n",
       "       [ 0. ,  1. ,  0. ],\n",
       "       [ 0. ,  0.9,  0.1],\n",
       "       [ 0. ,  1. ,  0. ],\n",
       "       [ 0. ,  0.7,  0.3],\n",
       "       [ 0. ,  1. ,  0. ],\n",
       "       [ 0. ,  1. ,  0. ],\n",
       "       [ 0. ,  1. ,  0. ],\n",
       "       [ 0. ,  1. ,  0. ],\n",
       "       [ 0. ,  1. ,  0. ],\n",
       "       [ 0. ,  0.6,  0.4],\n",
       "       [ 0. ,  1. ,  0. ],\n",
       "       [ 0. ,  0.7,  0.3],\n",
       "       [ 0. ,  1. ,  0. ],\n",
       "       [ 0. ,  0.8,  0.2],\n",
       "       [ 0. ,  1. ,  0. ],\n",
       "       [ 0. ,  1. ,  0. ],\n",
       "       [ 0. ,  1. ,  0. ],\n",
       "       [ 0. ,  1. ,  0. ],\n",
       "       [ 0. ,  0.9,  0.1],\n",
       "       [ 0. ,  1. ,  0. ],\n",
       "       [ 0. ,  1. ,  0. ],\n",
       "       [ 0. ,  1. ,  0. ],\n",
       "       [ 0. ,  1. ,  0. ],\n",
       "       [ 0. ,  1. ,  0. ],\n",
       "       [ 0. ,  0.6,  0.4],\n",
       "       [ 0. ,  1. ,  0. ],\n",
       "       [ 0. ,  1. ,  0. ],\n",
       "       [ 0. ,  1. ,  0. ],\n",
       "       [ 0. ,  1. ,  0. ],\n",
       "       [ 0. ,  1. ,  0. ],\n",
       "       [ 0. ,  1. ,  0. ],\n",
       "       [ 0. ,  1. ,  0. ],\n",
       "       [ 0. ,  1. ,  0. ],\n",
       "       [ 0. ,  1. ,  0. ],\n",
       "       [ 0. ,  1. ,  0. ],\n",
       "       [ 0. ,  1. ,  0. ],\n",
       "       [ 0. ,  1. ,  0. ],\n",
       "       [ 0. ,  1. ,  0. ],\n",
       "       [ 0. ,  1. ,  0. ],\n",
       "       [ 0. ,  1. ,  0. ],\n",
       "       [ 0. ,  1. ,  0. ],\n",
       "       [ 0. ,  0. ,  1. ],\n",
       "       [ 0. ,  0. ,  1. ],\n",
       "       [ 0. ,  0. ,  1. ],\n",
       "       [ 0. ,  0. ,  1. ],\n",
       "       [ 0. ,  0. ,  1. ],\n",
       "       [ 0. ,  0. ,  1. ],\n",
       "       [ 0. ,  0.2,  0.8],\n",
       "       [ 0. ,  0. ,  1. ],\n",
       "       [ 0. ,  0. ,  1. ],\n",
       "       [ 0. ,  0. ,  1. ],\n",
       "       [ 0. ,  0. ,  1. ],\n",
       "       [ 0. ,  0. ,  1. ],\n",
       "       [ 0. ,  0. ,  1. ],\n",
       "       [ 0. ,  0. ,  1. ],\n",
       "       [ 0. ,  0. ,  1. ],\n",
       "       [ 0. ,  0. ,  1. ],\n",
       "       [ 0. ,  0. ,  1. ],\n",
       "       [ 0. ,  0. ,  1. ],\n",
       "       [ 0. ,  0. ,  1. ],\n",
       "       [ 0. ,  0.3,  0.7],\n",
       "       [ 0. ,  0. ,  1. ],\n",
       "       [ 0. ,  0. ,  1. ],\n",
       "       [ 0. ,  0. ,  1. ],\n",
       "       [ 0. ,  0. ,  1. ],\n",
       "       [ 0. ,  0. ,  1. ],\n",
       "       [ 0. ,  0. ,  1. ],\n",
       "       [ 0. ,  0.1,  0.9],\n",
       "       [ 0. ,  0. ,  1. ],\n",
       "       [ 0. ,  0. ,  1. ],\n",
       "       [ 0. ,  0.1,  0.9],\n",
       "       [ 0. ,  0. ,  1. ],\n",
       "       [ 0. ,  0. ,  1. ],\n",
       "       [ 0. ,  0. ,  1. ],\n",
       "       [ 0. ,  0.3,  0.7],\n",
       "       [ 0. ,  0.2,  0.8],\n",
       "       [ 0. ,  0. ,  1. ],\n",
       "       [ 0. ,  0. ,  1. ],\n",
       "       [ 0. ,  0. ,  1. ],\n",
       "       [ 0. ,  0.1,  0.9],\n",
       "       [ 0. ,  0. ,  1. ],\n",
       "       [ 0. ,  0. ,  1. ],\n",
       "       [ 0. ,  0. ,  1. ],\n",
       "       [ 0. ,  0. ,  1. ],\n",
       "       [ 0. ,  0. ,  1. ],\n",
       "       [ 0. ,  0. ,  1. ],\n",
       "       [ 0. ,  0. ,  1. ],\n",
       "       [ 0. ,  0. ,  1. ],\n",
       "       [ 0. ,  0. ,  1. ],\n",
       "       [ 0. ,  0. ,  1. ],\n",
       "       [ 0. ,  0. ,  1. ]])"
      ]
     },
     "execution_count": 10,
     "metadata": {},
     "output_type": "execute_result"
    }
   ],
   "source": [
    "m.predict_proba(iris.data)"
   ]
  },
  {
   "cell_type": "code",
   "execution_count": 11,
   "metadata": {
    "collapsed": false
   },
   "outputs": [
    {
     "data": {
      "text/plain": [
       "1.0"
      ]
     },
     "execution_count": 11,
     "metadata": {},
     "output_type": "execute_result"
    }
   ],
   "source": [
    "m.score(iris.data,iris.target)"
   ]
  }
 ],
 "metadata": {
  "anaconda-cloud": {},
  "kernelspec": {
   "display_name": "Python [conda root]",
   "language": "python",
   "name": "conda-root-py"
  },
  "language_info": {
   "codemirror_mode": {
    "name": "ipython",
    "version": 3
   },
   "file_extension": ".py",
   "mimetype": "text/x-python",
   "name": "python",
   "nbconvert_exporter": "python",
   "pygments_lexer": "ipython3",
   "version": "3.5.2"
  }
 },
 "nbformat": 4,
 "nbformat_minor": 1
}
