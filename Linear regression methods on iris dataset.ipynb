{
 "cells": [
  {
   "cell_type": "code",
   "execution_count": 1,
   "metadata": {
    "collapsed": false
   },
   "outputs": [
    {
     "name": "stdout",
     "output_type": "stream",
     "text": [
      "[0 0 0 0 0 0 0 0 0 0 0 0 0 0 0 0 0 0 0 0 0 0 0 0 0 0 0 0 0 0 0 0 0 0 0 0 0\n",
      " 0 0 0 0 0 0 0 0 0 0 0 0 0 1 1 1 1 1 1 1 1 1 1 1 1 1 1 1 1 1 1 1 1 1 1 1 1\n",
      " 1 1 1 1 1 1 1 1 1 1 1 1 1 1 1 1 1 1 1 1 1 1 1 1 1 1 2 2 2 2 2 2 2 2 2 2 2\n",
      " 2 2 2 2 2 2 2 2 2 2 2 2 2 2 2 2 2 2 2 2 2 2 2 2 2 2 2 2 2 2 2 2 2 2 2 2 2\n",
      " 2 2] ['setosa' 'versicolor' 'virginica'] ['sepal length (cm)', 'sepal width (cm)', 'petal length (cm)', 'petal width (cm)'] Iris Plants Database\n",
      "\n",
      "Notes\n",
      "-----\n",
      "Data Set Characteristics:\n",
      "    :Number of Instances: 150 (50 in each of three classes)\n",
      "    :Number of Attributes: 4 numeric, predictive attributes and the class\n",
      "    :Attribute Information:\n",
      "        - sepal length in cm\n",
      "        - sepal width in cm\n",
      "        - petal length in cm\n",
      "        - petal width in cm\n",
      "        - class:\n",
      "                - Iris-Setosa\n",
      "                - Iris-Versicolour\n",
      "                - Iris-Virginica\n",
      "    :Summary Statistics:\n",
      "\n",
      "    ============== ==== ==== ======= ===== ====================\n",
      "                    Min  Max   Mean    SD   Class Correlation\n",
      "    ============== ==== ==== ======= ===== ====================\n",
      "    sepal length:   4.3  7.9   5.84   0.83    0.7826\n",
      "    sepal width:    2.0  4.4   3.05   0.43   -0.4194\n",
      "    petal length:   1.0  6.9   3.76   1.76    0.9490  (high!)\n",
      "    petal width:    0.1  2.5   1.20  0.76     0.9565  (high!)\n",
      "    ============== ==== ==== ======= ===== ====================\n",
      "\n",
      "    :Missing Attribute Values: None\n",
      "    :Class Distribution: 33.3% for each of 3 classes.\n",
      "    :Creator: R.A. Fisher\n",
      "    :Donor: Michael Marshall (MARSHALL%PLU@io.arc.nasa.gov)\n",
      "    :Date: July, 1988\n",
      "\n",
      "This is a copy of UCI ML iris datasets.\n",
      "http://archive.ics.uci.edu/ml/datasets/Iris\n",
      "\n",
      "The famous Iris database, first used by Sir R.A Fisher\n",
      "\n",
      "This is perhaps the best known database to be found in the\n",
      "pattern recognition literature.  Fisher's paper is a classic in the field and\n",
      "is referenced frequently to this day.  (See Duda & Hart, for example.)  The\n",
      "data set contains 3 classes of 50 instances each, where each class refers to a\n",
      "type of iris plant.  One class is linearly separable from the other 2; the\n",
      "latter are NOT linearly separable from each other.\n",
      "\n",
      "References\n",
      "----------\n",
      "   - Fisher,R.A. \"The use of multiple measurements in taxonomic problems\"\n",
      "     Annual Eugenics, 7, Part II, 179-188 (1936); also in \"Contributions to\n",
      "     Mathematical Statistics\" (John Wiley, NY, 1950).\n",
      "   - Duda,R.O., & Hart,P.E. (1973) Pattern Classification and Scene Analysis.\n",
      "     (Q327.D83) John Wiley & Sons.  ISBN 0-471-22361-1.  See page 218.\n",
      "   - Dasarathy, B.V. (1980) \"Nosing Around the Neighborhood: A New System\n",
      "     Structure and Classification Rule for Recognition in Partially Exposed\n",
      "     Environments\".  IEEE Transactions on Pattern Analysis and Machine\n",
      "     Intelligence, Vol. PAMI-2, No. 1, 67-71.\n",
      "   - Gates, G.W. (1972) \"The Reduced Nearest Neighbor Rule\".  IEEE Transactions\n",
      "     on Information Theory, May 1972, 431-433.\n",
      "   - See also: 1988 MLC Proceedings, 54-64.  Cheeseman et al\"s AUTOCLASS II\n",
      "     conceptual clustering system finds 3 classes in the data.\n",
      "   - Many, many more ...\n",
      "\n"
     ]
    }
   ],
   "source": [
    "#import pandas\n",
    "\n",
    "# url = 'https://archive.ics.uci.edu/ml/machine-learning-databases/iris/iris.data'\n",
    "# names=['sepal-length','sepal-width','petal-length','petal-width','class']\n",
    "# dataset = pandas.read_csv(url,names=names)\n",
    "\n",
    "#dataset.head(10)\n",
    "\n",
    "from sklearn import datasets\n",
    "from sklearn.linear_model import LinearRegression\n",
    "\n",
    "#reading the iris dataset from the datasets package\n",
    "\n",
    "iris = datasets.load_iris()\n",
    "\n",
    "iris.data.shape,iris.target.shape\n",
    "\n",
    "#implementing the methods of Logistic Regression \n",
    "m=LinearRegression()\n",
    "\n",
    "# model = LogisticRegression()\n",
    "# model.fit(iris.data,iris.target)\n",
    "print(iris.target,iris.target_names,iris.feature_names,iris.DESCR)\n",
    "\n",
    "# model.predict(iris.data)\n",
    "#print(iris.target)\n",
    "\n"
   ]
  },
  {
   "cell_type": "code",
   "execution_count": 3,
   "metadata": {
    "collapsed": false
   },
   "outputs": [
    {
     "name": "stdout",
     "output_type": "stream",
     "text": [
      "[[ 5.1  3.5  1.4  0.2]\n",
      " [ 4.9  3.   1.4  0.2]\n",
      " [ 4.7  3.2  1.3  0.2]\n",
      " [ 4.6  3.1  1.5  0.2]\n",
      " [ 5.   3.6  1.4  0.2]\n",
      " [ 5.4  3.9  1.7  0.4]\n",
      " [ 4.6  3.4  1.4  0.3]\n",
      " [ 5.   3.4  1.5  0.2]\n",
      " [ 4.4  2.9  1.4  0.2]\n",
      " [ 4.9  3.1  1.5  0.1]\n",
      " [ 5.4  3.7  1.5  0.2]\n",
      " [ 4.8  3.4  1.6  0.2]\n",
      " [ 4.8  3.   1.4  0.1]\n",
      " [ 4.3  3.   1.1  0.1]\n",
      " [ 5.8  4.   1.2  0.2]\n",
      " [ 5.7  4.4  1.5  0.4]\n",
      " [ 5.4  3.9  1.3  0.4]\n",
      " [ 5.1  3.5  1.4  0.3]\n",
      " [ 5.7  3.8  1.7  0.3]\n",
      " [ 5.1  3.8  1.5  0.3]\n",
      " [ 5.4  3.4  1.7  0.2]\n",
      " [ 5.1  3.7  1.5  0.4]\n",
      " [ 4.6  3.6  1.   0.2]\n",
      " [ 5.1  3.3  1.7  0.5]\n",
      " [ 4.8  3.4  1.9  0.2]\n",
      " [ 5.   3.   1.6  0.2]\n",
      " [ 5.   3.4  1.6  0.4]\n",
      " [ 5.2  3.5  1.5  0.2]\n",
      " [ 5.2  3.4  1.4  0.2]\n",
      " [ 4.7  3.2  1.6  0.2]\n",
      " [ 4.8  3.1  1.6  0.2]\n",
      " [ 5.4  3.4  1.5  0.4]\n",
      " [ 5.2  4.1  1.5  0.1]\n",
      " [ 5.5  4.2  1.4  0.2]\n",
      " [ 4.9  3.1  1.5  0.1]\n",
      " [ 5.   3.2  1.2  0.2]\n",
      " [ 5.5  3.5  1.3  0.2]\n",
      " [ 4.9  3.1  1.5  0.1]\n",
      " [ 4.4  3.   1.3  0.2]\n",
      " [ 5.1  3.4  1.5  0.2]\n",
      " [ 5.   3.5  1.3  0.3]\n",
      " [ 4.5  2.3  1.3  0.3]\n",
      " [ 4.4  3.2  1.3  0.2]\n",
      " [ 5.   3.5  1.6  0.6]\n",
      " [ 5.1  3.8  1.9  0.4]\n",
      " [ 4.8  3.   1.4  0.3]\n",
      " [ 5.1  3.8  1.6  0.2]\n",
      " [ 4.6  3.2  1.4  0.2]\n",
      " [ 5.3  3.7  1.5  0.2]\n",
      " [ 5.   3.3  1.4  0.2]\n",
      " [ 7.   3.2  4.7  1.4]\n",
      " [ 6.4  3.2  4.5  1.5]\n",
      " [ 6.9  3.1  4.9  1.5]\n",
      " [ 5.5  2.3  4.   1.3]\n",
      " [ 6.5  2.8  4.6  1.5]\n",
      " [ 5.7  2.8  4.5  1.3]\n",
      " [ 6.3  3.3  4.7  1.6]\n",
      " [ 4.9  2.4  3.3  1. ]\n",
      " [ 6.6  2.9  4.6  1.3]\n",
      " [ 5.2  2.7  3.9  1.4]\n",
      " [ 5.   2.   3.5  1. ]\n",
      " [ 5.9  3.   4.2  1.5]\n",
      " [ 6.   2.2  4.   1. ]\n",
      " [ 6.1  2.9  4.7  1.4]\n",
      " [ 5.6  2.9  3.6  1.3]\n",
      " [ 6.7  3.1  4.4  1.4]\n",
      " [ 5.6  3.   4.5  1.5]\n",
      " [ 5.8  2.7  4.1  1. ]\n",
      " [ 6.2  2.2  4.5  1.5]\n",
      " [ 5.6  2.5  3.9  1.1]\n",
      " [ 5.9  3.2  4.8  1.8]\n",
      " [ 6.1  2.8  4.   1.3]\n",
      " [ 6.3  2.5  4.9  1.5]\n",
      " [ 6.1  2.8  4.7  1.2]\n",
      " [ 6.4  2.9  4.3  1.3]\n",
      " [ 6.6  3.   4.4  1.4]\n",
      " [ 6.8  2.8  4.8  1.4]\n",
      " [ 6.7  3.   5.   1.7]\n",
      " [ 6.   2.9  4.5  1.5]\n",
      " [ 5.7  2.6  3.5  1. ]\n",
      " [ 5.5  2.4  3.8  1.1]\n",
      " [ 5.5  2.4  3.7  1. ]\n",
      " [ 5.8  2.7  3.9  1.2]\n",
      " [ 6.   2.7  5.1  1.6]\n",
      " [ 5.4  3.   4.5  1.5]\n",
      " [ 6.   3.4  4.5  1.6]\n",
      " [ 6.7  3.1  4.7  1.5]\n",
      " [ 6.3  2.3  4.4  1.3]\n",
      " [ 5.6  3.   4.1  1.3]\n",
      " [ 5.5  2.5  4.   1.3]\n",
      " [ 5.5  2.6  4.4  1.2]\n",
      " [ 6.1  3.   4.6  1.4]\n",
      " [ 5.8  2.6  4.   1.2]\n",
      " [ 5.   2.3  3.3  1. ]\n",
      " [ 5.6  2.7  4.2  1.3]\n",
      " [ 5.7  3.   4.2  1.2]\n",
      " [ 5.7  2.9  4.2  1.3]\n",
      " [ 6.2  2.9  4.3  1.3]\n",
      " [ 5.1  2.5  3.   1.1]\n",
      " [ 5.7  2.8  4.1  1.3]\n",
      " [ 6.3  3.3  6.   2.5]\n",
      " [ 5.8  2.7  5.1  1.9]\n",
      " [ 7.1  3.   5.9  2.1]\n",
      " [ 6.3  2.9  5.6  1.8]\n",
      " [ 6.5  3.   5.8  2.2]\n",
      " [ 7.6  3.   6.6  2.1]\n",
      " [ 4.9  2.5  4.5  1.7]\n",
      " [ 7.3  2.9  6.3  1.8]\n",
      " [ 6.7  2.5  5.8  1.8]\n",
      " [ 7.2  3.6  6.1  2.5]\n",
      " [ 6.5  3.2  5.1  2. ]\n",
      " [ 6.4  2.7  5.3  1.9]\n",
      " [ 6.8  3.   5.5  2.1]\n",
      " [ 5.7  2.5  5.   2. ]\n",
      " [ 5.8  2.8  5.1  2.4]\n",
      " [ 6.4  3.2  5.3  2.3]\n",
      " [ 6.5  3.   5.5  1.8]\n",
      " [ 7.7  3.8  6.7  2.2]\n",
      " [ 7.7  2.6  6.9  2.3]\n",
      " [ 6.   2.2  5.   1.5]\n",
      " [ 6.9  3.2  5.7  2.3]\n",
      " [ 5.6  2.8  4.9  2. ]\n",
      " [ 7.7  2.8  6.7  2. ]\n",
      " [ 6.3  2.7  4.9  1.8]\n",
      " [ 6.7  3.3  5.7  2.1]\n",
      " [ 7.2  3.2  6.   1.8]\n",
      " [ 6.2  2.8  4.8  1.8]\n",
      " [ 6.1  3.   4.9  1.8]\n",
      " [ 6.4  2.8  5.6  2.1]\n",
      " [ 7.2  3.   5.8  1.6]\n",
      " [ 7.4  2.8  6.1  1.9]\n",
      " [ 7.9  3.8  6.4  2. ]\n",
      " [ 6.4  2.8  5.6  2.2]\n",
      " [ 6.3  2.8  5.1  1.5]\n",
      " [ 6.1  2.6  5.6  1.4]\n",
      " [ 7.7  3.   6.1  2.3]\n",
      " [ 6.3  3.4  5.6  2.4]\n",
      " [ 6.4  3.1  5.5  1.8]\n",
      " [ 6.   3.   4.8  1.8]\n",
      " [ 6.9  3.1  5.4  2.1]\n",
      " [ 6.7  3.1  5.6  2.4]\n",
      " [ 6.9  3.1  5.1  2.3]\n",
      " [ 5.8  2.7  5.1  1.9]\n",
      " [ 6.8  3.2  5.9  2.3]\n",
      " [ 6.7  3.3  5.7  2.5]\n",
      " [ 6.7  3.   5.2  2.3]\n",
      " [ 6.3  2.5  5.   1.9]\n",
      " [ 6.5  3.   5.2  2. ]\n",
      " [ 6.2  3.4  5.4  2.3]\n",
      " [ 5.9  3.   5.1  1.8]]\n"
     ]
    }
   ],
   "source": [
    "print(iris.data)"
   ]
  },
  {
   "cell_type": "code",
   "execution_count": 4,
   "metadata": {
    "collapsed": false
   },
   "outputs": [
    {
     "data": {
      "text/plain": [
       "LinearRegression(copy_X=True, fit_intercept=True, n_jobs=1, normalize=False)"
      ]
     },
     "execution_count": 4,
     "metadata": {},
     "output_type": "execute_result"
    }
   ],
   "source": [
    "\n",
    "#fit - fit the model according to the given training data\n",
    "m.fit(iris.data,iris.target)\n"
   ]
  },
  {
   "cell_type": "code",
   "execution_count": 5,
   "metadata": {
    "collapsed": false
   },
   "outputs": [
    {
     "name": "stderr",
     "output_type": "stream",
     "text": [
      "/home/harish/anaconda3/lib/python3.5/site-packages/sklearn/utils/__init__.py:93: DeprecationWarning: Function decision_function is deprecated;  and will be removed in 0.19.\n",
      "  warnings.warn(msg, category=DeprecationWarning)\n"
     ]
    },
    {
     "data": {
      "text/plain": [
       "array([ -8.26582725e-02,  -3.85897565e-02,  -4.81896914e-02,\n",
       "         1.26087761e-02,  -7.61081708e-02,   5.68023484e-02,\n",
       "         3.76259158e-02,  -4.45599433e-02,   2.07050198e-02,\n",
       "        -8.13030749e-02,  -1.01728663e-01,   8.84875996e-05,\n",
       "        -8.86050221e-02,  -1.01834705e-01,  -2.26997797e-01,\n",
       "        -4.36405904e-02,  -3.39982044e-02,  -2.16688605e-02,\n",
       "        -3.26854579e-02,  -1.22408563e-02,  -4.30562522e-02,\n",
       "         5.31726003e-02,  -1.23012138e-01,   1.77258467e-01,\n",
       "         6.81889023e-02,  -4.16362637e-03,   1.00119019e-01,\n",
       "        -7.09322806e-02,  -8.92083742e-02,   1.99107233e-02,\n",
       "         1.33606216e-02,   3.35222953e-02,  -1.58465961e-01,\n",
       "        -1.57523171e-01,  -8.13030749e-02,  -1.03812269e-01,\n",
       "        -1.49254996e-01,  -8.13030749e-02,  -6.41916305e-03,\n",
       "        -5.55340896e-02,  -3.33948524e-02,   7.45644153e-02,\n",
       "        -1.52672524e-02,   2.17673798e-01,   1.39549109e-01,\n",
       "         3.33738018e-02,  -5.05301301e-02,  -1.45154068e-02,\n",
       "        -9.07545163e-02,  -6.28360368e-02,   1.20308259e+00,\n",
       "         1.28451660e+00,   1.32487047e+00,   1.18762080e+00,\n",
       "         1.31393877e+00,   1.25705298e+00,   1.39745639e+00,\n",
       "         9.07172433e-01,   1.17656176e+00,   1.24113634e+00,\n",
       "         9.59294742e-01,   1.28013501e+00,   9.54205881e-01,\n",
       "         1.31512204e+00,   1.05930184e+00,   1.17232866e+00,\n",
       "         1.38115786e+00,   9.76734088e-01,   1.35070534e+00,\n",
       "         1.02311961e+00,   1.59045598e+00,   1.09965570e+00,\n",
       "         1.41725961e+00,   1.19756726e+00,   1.13040963e+00,\n",
       "         1.18772685e+00,   1.26542720e+00,   1.49592176e+00,\n",
       "         1.34168532e+00,   8.55931450e-01,   1.01581766e+00,\n",
       "         9.32128108e-01,   1.05331264e+00,   1.54772365e+00,\n",
       "         1.40310615e+00,   1.38055451e+00,   1.30141848e+00,\n",
       "         1.19062819e+00,   1.16837848e+00,   1.17877271e+00,\n",
       "         1.20415981e+00,   1.28799785e+00,   1.08043682e+00,\n",
       "         9.00622332e-01,   1.20435076e+00,   1.11911506e+00,\n",
       "         1.18452852e+00,   1.15235793e+00,   8.73689093e-01,\n",
       "         1.16625243e+00,   2.24146289e+00,   1.75264018e+00,\n",
       "         1.90028407e+00,   1.74143264e+00,   2.00441822e+00,\n",
       "         2.00431431e+00,   1.60207593e+00,   1.79059214e+00,\n",
       "         1.76063251e+00,   2.15212358e+00,   1.71469034e+00,\n",
       "         1.73219558e+00,   1.84240596e+00,   1.81075169e+00,\n",
       "         2.05316319e+00,   1.95403300e+00,   1.69236016e+00,\n",
       "         2.04163735e+00,   2.20111558e+00,   1.48615432e+00,\n",
       "         1.98996282e+00,   1.78575356e+00,   1.96389898e+00,\n",
       "         1.59137976e+00,   1.88550825e+00,   1.72019374e+00,\n",
       "         1.57522972e+00,   1.60005592e+00,   1.91785077e+00,\n",
       "         1.56166273e+00,   1.79963117e+00,   1.82960982e+00,\n",
       "         1.97884018e+00,   1.44938775e+00,   1.53269542e+00,\n",
       "         2.00181829e+00,   2.08524888e+00,   1.69891026e+00,\n",
       "         1.58832992e+00,   1.80430763e+00,   2.05462443e+00,\n",
       "         1.85818604e+00,   1.75264018e+00,   2.04633725e+00,\n",
       "         2.12946589e+00,   1.90725851e+00,   1.68391740e+00,\n",
       "         1.74623857e+00,   1.98983334e+00,   1.66740449e+00])"
      ]
     },
     "execution_count": 5,
     "metadata": {},
     "output_type": "execute_result"
    }
   ],
   "source": [
    "#decision_function - to predict confidence scores (signed distance of that sample to the hyperplane) for examples.\n",
    "m.decision_function(iris.data)"
   ]
  },
  {
   "cell_type": "code",
   "execution_count": 6,
   "metadata": {
    "collapsed": false
   },
   "outputs": [
    {
     "data": {
      "text/plain": [
       "{'copy_X': True, 'fit_intercept': True, 'n_jobs': 1, 'normalize': False}"
      ]
     },
     "execution_count": 6,
     "metadata": {},
     "output_type": "execute_result"
    }
   ],
   "source": [
    "m.get_params()"
   ]
  },
  {
   "cell_type": "code",
   "execution_count": 8,
   "metadata": {
    "collapsed": false
   },
   "outputs": [],
   "source": [
    "\n",
    "#fit_transform\n",
    "#m.fit_transform(iris.data,iris.target)"
   ]
  },
  {
   "cell_type": "code",
   "execution_count": 9,
   "metadata": {
    "collapsed": false
   },
   "outputs": [
    {
     "data": {
      "text/plain": [
       "array([ -8.26582725e-02,  -3.85897565e-02,  -4.81896914e-02,\n",
       "         1.26087761e-02,  -7.61081708e-02,   5.68023484e-02,\n",
       "         3.76259158e-02,  -4.45599433e-02,   2.07050198e-02,\n",
       "        -8.13030749e-02,  -1.01728663e-01,   8.84875996e-05,\n",
       "        -8.86050221e-02,  -1.01834705e-01,  -2.26997797e-01,\n",
       "        -4.36405904e-02,  -3.39982044e-02,  -2.16688605e-02,\n",
       "        -3.26854579e-02,  -1.22408563e-02,  -4.30562522e-02,\n",
       "         5.31726003e-02,  -1.23012138e-01,   1.77258467e-01,\n",
       "         6.81889023e-02,  -4.16362637e-03,   1.00119019e-01,\n",
       "        -7.09322806e-02,  -8.92083742e-02,   1.99107233e-02,\n",
       "         1.33606216e-02,   3.35222953e-02,  -1.58465961e-01,\n",
       "        -1.57523171e-01,  -8.13030749e-02,  -1.03812269e-01,\n",
       "        -1.49254996e-01,  -8.13030749e-02,  -6.41916305e-03,\n",
       "        -5.55340896e-02,  -3.33948524e-02,   7.45644153e-02,\n",
       "        -1.52672524e-02,   2.17673798e-01,   1.39549109e-01,\n",
       "         3.33738018e-02,  -5.05301301e-02,  -1.45154068e-02,\n",
       "        -9.07545163e-02,  -6.28360368e-02,   1.20308259e+00,\n",
       "         1.28451660e+00,   1.32487047e+00,   1.18762080e+00,\n",
       "         1.31393877e+00,   1.25705298e+00,   1.39745639e+00,\n",
       "         9.07172433e-01,   1.17656176e+00,   1.24113634e+00,\n",
       "         9.59294742e-01,   1.28013501e+00,   9.54205881e-01,\n",
       "         1.31512204e+00,   1.05930184e+00,   1.17232866e+00,\n",
       "         1.38115786e+00,   9.76734088e-01,   1.35070534e+00,\n",
       "         1.02311961e+00,   1.59045598e+00,   1.09965570e+00,\n",
       "         1.41725961e+00,   1.19756726e+00,   1.13040963e+00,\n",
       "         1.18772685e+00,   1.26542720e+00,   1.49592176e+00,\n",
       "         1.34168532e+00,   8.55931450e-01,   1.01581766e+00,\n",
       "         9.32128108e-01,   1.05331264e+00,   1.54772365e+00,\n",
       "         1.40310615e+00,   1.38055451e+00,   1.30141848e+00,\n",
       "         1.19062819e+00,   1.16837848e+00,   1.17877271e+00,\n",
       "         1.20415981e+00,   1.28799785e+00,   1.08043682e+00,\n",
       "         9.00622332e-01,   1.20435076e+00,   1.11911506e+00,\n",
       "         1.18452852e+00,   1.15235793e+00,   8.73689093e-01,\n",
       "         1.16625243e+00,   2.24146289e+00,   1.75264018e+00,\n",
       "         1.90028407e+00,   1.74143264e+00,   2.00441822e+00,\n",
       "         2.00431431e+00,   1.60207593e+00,   1.79059214e+00,\n",
       "         1.76063251e+00,   2.15212358e+00,   1.71469034e+00,\n",
       "         1.73219558e+00,   1.84240596e+00,   1.81075169e+00,\n",
       "         2.05316319e+00,   1.95403300e+00,   1.69236016e+00,\n",
       "         2.04163735e+00,   2.20111558e+00,   1.48615432e+00,\n",
       "         1.98996282e+00,   1.78575356e+00,   1.96389898e+00,\n",
       "         1.59137976e+00,   1.88550825e+00,   1.72019374e+00,\n",
       "         1.57522972e+00,   1.60005592e+00,   1.91785077e+00,\n",
       "         1.56166273e+00,   1.79963117e+00,   1.82960982e+00,\n",
       "         1.97884018e+00,   1.44938775e+00,   1.53269542e+00,\n",
       "         2.00181829e+00,   2.08524888e+00,   1.69891026e+00,\n",
       "         1.58832992e+00,   1.80430763e+00,   2.05462443e+00,\n",
       "         1.85818604e+00,   1.75264018e+00,   2.04633725e+00,\n",
       "         2.12946589e+00,   1.90725851e+00,   1.68391740e+00,\n",
       "         1.74623857e+00,   1.98983334e+00,   1.66740449e+00])"
      ]
     },
     "execution_count": 9,
     "metadata": {},
     "output_type": "execute_result"
    }
   ],
   "source": [
    "\n",
    "#predict - in the output below, 0-Setosa, 1-Versicolour, 2-Virginica\n",
    "m.predict(iris.data)"
   ]
  },
  {
   "cell_type": "code",
   "execution_count": 11,
   "metadata": {
    "collapsed": false
   },
   "outputs": [],
   "source": [
    "#predict_proba\n",
    "#m.predict_proba(iris.data)"
   ]
  },
  {
   "cell_type": "code",
   "execution_count": 13,
   "metadata": {
    "collapsed": false
   },
   "outputs": [],
   "source": [
    "#m.predict_log_proba(iris.data)"
   ]
  },
  {
   "cell_type": "code",
   "execution_count": 14,
   "metadata": {
    "collapsed": false
   },
   "outputs": [
    {
     "data": {
      "text/plain": [
       "0.93042236753315966"
      ]
     },
     "execution_count": 14,
     "metadata": {},
     "output_type": "execute_result"
    }
   ],
   "source": [
    "m.score(iris.data,iris.target)"
   ]
  },
  {
   "cell_type": "code",
   "execution_count": 15,
   "metadata": {
    "collapsed": false
   },
   "outputs": [
    {
     "ename": "AttributeError",
     "evalue": "'LinearRegression' object has no attribute 'sparsify'",
     "output_type": "error",
     "traceback": [
      "\u001b[0;31m---------------------------------------------------------------------------\u001b[0m",
      "\u001b[0;31mAttributeError\u001b[0m                            Traceback (most recent call last)",
      "\u001b[0;32m<ipython-input-15-b7459aefcdb8>\u001b[0m in \u001b[0;36m<module>\u001b[0;34m()\u001b[0m\n\u001b[0;32m----> 1\u001b[0;31m \u001b[0mm\u001b[0m\u001b[0;34m.\u001b[0m\u001b[0msparsify\u001b[0m\u001b[0;34m(\u001b[0m\u001b[0;34m)\u001b[0m\u001b[0;34m\u001b[0m\u001b[0m\n\u001b[0m",
      "\u001b[0;31mAttributeError\u001b[0m: 'LinearRegression' object has no attribute 'sparsify'"
     ]
    }
   ],
   "source": [
    "#m.sparsify()"
   ]
  },
  {
   "cell_type": "code",
   "execution_count": null,
   "metadata": {
    "collapsed": true
   },
   "outputs": [],
   "source": []
  }
 ],
 "metadata": {
  "anaconda-cloud": {},
  "kernelspec": {
   "display_name": "Python [conda root]",
   "language": "python",
   "name": "conda-root-py"
  },
  "language_info": {
   "codemirror_mode": {
    "name": "ipython",
    "version": 3
   },
   "file_extension": ".py",
   "mimetype": "text/x-python",
   "name": "python",
   "nbconvert_exporter": "python",
   "pygments_lexer": "ipython3",
   "version": "3.5.2"
  }
 },
 "nbformat": 4,
 "nbformat_minor": 1
}
