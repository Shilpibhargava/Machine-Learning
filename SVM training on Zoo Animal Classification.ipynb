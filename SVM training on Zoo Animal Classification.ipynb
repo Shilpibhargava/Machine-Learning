{
 "cells": [
  {
   "cell_type": "code",
   "execution_count": 11,
   "metadata": {
    "collapsed": false
   },
   "outputs": [],
   "source": [
    "#importing scikit-learn datasets and svm packages\n",
    "import pandas\n",
    "import numpy as np\n",
    "from pandas.tools.plotting import scatter_matrix\n",
    "import matplotlib.pyplot as plt\n",
    "from sklearn.svm import SVC\n",
    "from sklearn.model_selection import train_test_split\n",
    "\n",
    "#reading Zoo Dataset from csv file\n",
    "zoo = r'C:\\Users\\priyu\\Machine-Learning\\zoo-animal-classification\\zoo.csv'\n",
    "training_set = pandas.read_csv(zoo,index_col = False)\n",
    "zoo_data_df = training_set[['hair','feathers','eggs','milk','airborne','aquatic','predator','toothed','backbone','breathes','venomous','fins','legs','tail','domestic','catsize']]\n",
    "zoo_target_df = training_set[['class_type']]\n",
    "zoo_target = zoo_target_df.values\n",
    "zoo_data = zoo_data_df.values"
   ]
  },
  {
   "cell_type": "code",
   "execution_count": 12,
   "metadata": {
    "collapsed": false
   },
   "outputs": [],
   "source": [
    "validation_size = 0.20\n",
    "seed = 7\n",
    "X_train, X_validation, Y_train, Y_validation = train_test_split(zoo_data, zoo_target, test_size=validation_size, random_state=seed)"
   ]
  },
  {
   "cell_type": "code",
   "execution_count": 13,
   "metadata": {
    "collapsed": true
   },
   "outputs": [],
   "source": [
    "y = Y_train.ravel()\n",
    "Y_train = np.array(y).astype(int)"
   ]
  },
  {
   "cell_type": "code",
   "execution_count": 14,
   "metadata": {
    "collapsed": true
   },
   "outputs": [],
   "source": [
    "# Test options and evaluation metric\n",
    "num_folds = 10\n",
    "num_instances = len(X_train)\n",
    "seed = 7\n",
    "scoring = 'accuracy'"
   ]
  },
  {
   "cell_type": "code",
   "execution_count": 26,
   "metadata": {
    "collapsed": false
   },
   "outputs": [
    {
     "name": "stdout",
     "output_type": "stream",
     "text": [
      "[LibSVM][LibSVM][LibSVM][LibSVM][LibSVM][LibSVM][LibSVM][LibSVM][LibSVM][LibSVM]SVM: 0.975000 (0.050000)\n",
      "[ 1.     1.     1.     1.     0.875  1.     1.     1.     0.875  1.   ]\n"
     ]
    }
   ],
   "source": [
    "model = SVC(C=5.0,class_weight='balanced',verbose=True)\n",
    "results = []\n",
    "names = []\n",
    "kfold = cross_validation.KFold(n=num_instances, n_folds=num_folds, random_state=seed)\n",
    "cv_results = cross_validation.cross_val_score(model, X_train, Y_train, cv=kfold, scoring=scoring)\n",
    "results.append(cv_results)\n",
    "#names.append(name)\n",
    "msg = \"%s: %f (%f)\" % ('SVM', cv_results.mean(), cv_results.std())\n",
    "print(msg)\n",
    "print(cv_results)"
   ]
  },
  {
   "cell_type": "code",
   "execution_count": 19,
   "metadata": {
    "collapsed": false
   },
   "outputs": [
    {
     "name": "stdout",
     "output_type": "stream",
     "text": [
      "[LibSVM]"
     ]
    },
    {
     "data": {
      "text/plain": [
       "SVC(C=5.0, cache_size=200, class_weight='balanced', coef0=0.0,\n",
       "  decision_function_shape=None, degree=3, gamma='auto', kernel='rbf',\n",
       "  max_iter=-1, probability=False, random_state=None, shrinking=True,\n",
       "  tol=0.001, verbose=True)"
      ]
     },
     "execution_count": 19,
     "metadata": {},
     "output_type": "execute_result"
    }
   ],
   "source": [
    "model.fit(X_train,Y_train)"
   ]
  },
  {
   "cell_type": "code",
   "execution_count": 20,
   "metadata": {
    "collapsed": false
   },
   "outputs": [
    {
     "name": "stderr",
     "output_type": "stream",
     "text": [
      "C:\\Users\\priyu\\Anaconda3\\lib\\site-packages\\sklearn\\svm\\base.py:552: ChangedBehaviorWarning: The decision_function_shape default value will change from 'ovo' to 'ovr' in 0.19. This will change the shape of the decision function returned by SVC.\n",
      "  \"SVC.\", ChangedBehaviorWarning)\n"
     ]
    },
    {
     "data": {
      "text/plain": [
       "array([[ 0.31759226, -0.7557874 , -1.00018037, ...,  0.58150862,\n",
       "        -0.61350215, -1.12213627],\n",
       "       [ 1.15993866,  0.99979543,  1.10432661, ...,  0.47882185,\n",
       "         0.42997832, -0.02144245],\n",
       "       [ 0.45673137, -0.68274122,  0.59885814, ..., -0.11157142,\n",
       "        -1.00014176, -0.99957053],\n",
       "       ..., \n",
       "       [ 0.30429269, -0.68703076,  0.6649226 , ...,  1.00061513,\n",
       "         0.99994922, -0.4758221 ],\n",
       "       [ 1.12996095,  0.99966974,  1.06214243, ...,  0.4325858 ,\n",
       "         0.36337669, -0.26919996],\n",
       "       [ 1.18442324,  1.00019538,  1.1289054 , ...,  0.48612368,\n",
       "         0.42852275, -0.25623127]])"
      ]
     },
     "execution_count": 20,
     "metadata": {},
     "output_type": "execute_result"
    }
   ],
   "source": [
    "model.decision_function(X_train)"
   ]
  },
  {
   "cell_type": "code",
   "execution_count": 21,
   "metadata": {
    "collapsed": false
   },
   "outputs": [
    {
     "data": {
      "text/plain": [
       "{'C': 5.0,\n",
       " 'cache_size': 200,\n",
       " 'class_weight': 'balanced',\n",
       " 'coef0': 0.0,\n",
       " 'decision_function_shape': None,\n",
       " 'degree': 3,\n",
       " 'gamma': 'auto',\n",
       " 'kernel': 'rbf',\n",
       " 'max_iter': -1,\n",
       " 'probability': False,\n",
       " 'random_state': None,\n",
       " 'shrinking': True,\n",
       " 'tol': 0.001,\n",
       " 'verbose': True}"
      ]
     },
     "execution_count": 21,
     "metadata": {},
     "output_type": "execute_result"
    }
   ],
   "source": [
    "model.get_params()"
   ]
  },
  {
   "cell_type": "code",
   "execution_count": 24,
   "metadata": {
    "collapsed": false
   },
   "outputs": [
    {
     "data": {
      "text/plain": [
       "array([4, 1, 7, 1, 1, 6, 6, 1, 6, 1, 1, 1, 2, 2, 2, 1, 2, 1, 1, 3, 2, 4, 2,\n",
       "       2, 1, 3, 1, 1, 3, 1, 1, 2, 7, 1, 1, 7, 2, 1, 1, 3, 1, 7, 1, 4, 3, 4,\n",
       "       1, 4, 7, 2, 6, 2, 1, 1, 4, 4, 1, 1, 1, 1, 1, 1, 4, 1, 7, 6, 4, 6, 5,\n",
       "       7, 2, 7, 2, 4, 2, 2, 1, 5, 1, 1])"
      ]
     },
     "execution_count": 24,
     "metadata": {},
     "output_type": "execute_result"
    }
   ],
   "source": [
    "model.predict(X_train)"
   ]
  },
  {
   "cell_type": "code",
   "execution_count": 25,
   "metadata": {
    "collapsed": false
   },
   "outputs": [
    {
     "data": {
      "text/plain": [
       "1.0"
      ]
     },
     "execution_count": 25,
     "metadata": {},
     "output_type": "execute_result"
    }
   ],
   "source": [
    "model.score(X_train,Y_train)"
   ]
  }
 ],
 "metadata": {
  "anaconda-cloud": {},
  "kernelspec": {
   "display_name": "Python [conda root]",
   "language": "python",
   "name": "conda-root-py"
  },
  "language_info": {
   "codemirror_mode": {
    "name": "ipython",
    "version": 3
   },
   "file_extension": ".py",
   "mimetype": "text/x-python",
   "name": "python",
   "nbconvert_exporter": "python",
   "pygments_lexer": "ipython3",
   "version": "3.5.2"
  }
 },
 "nbformat": 4,
 "nbformat_minor": 1
}
