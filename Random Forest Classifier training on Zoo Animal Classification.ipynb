{
 "cells": [
  {
   "cell_type": "markdown",
   "metadata": {},
   "source": [
    "The code is not originally written by me. I am citing the source from which I included the code (http://machinelearningmastery.com/machine-learning-in-python-step-by-step/)- to learn and apply the Zoo Data on the RandomForestClassifier model"
   ]
  },
  {
   "cell_type": "code",
   "execution_count": 10,
   "metadata": {
    "collapsed": false
   },
   "outputs": [],
   "source": [
    "#importing pandas, scikit-learn package and the RandomForestClassifier\n",
    "import pandas\n",
    "import numpy as np\n",
    "from pandas.tools.plotting import scatter_matrix\n",
    "from sklearn import cross_validation\n",
    "from sklearn.ensemble import RandomForestClassifier\n",
    "import warnings\n",
    "warnings.filterwarnings('ignore')\n",
    "\n",
    "#reading Zoo Dataset from csv file.\n",
    "zoo = r'C:\\Users\\priyu\\Machine-Learning\\zoo-animal-classification\\zoo.csv'\n",
    "training_set = pandas.read_csv(zoo,index_col = False)\n",
    "#zoo_class_set = pandas.read_csv(zoo_class, index_col = False)\n",
    "zoo_data_df = training_set[['hair','feathers','eggs','milk','airborne','aquatic','predator','toothed','backbone','breathes','venomous','fins','legs','tail','domestic','catsize']]\n",
    "zoo_target_df = training_set[['class_type']]\n",
    "zoo_target = zoo_target_df.values\n",
    "zoo_data = zoo_data_df.values"
   ]
  },
  {
   "cell_type": "code",
   "execution_count": 4,
   "metadata": {
    "collapsed": true
   },
   "outputs": [],
   "source": [
    "validation_size = 0.20\n",
    "seed = 7\n",
    "X_train, X_validation, Y_train, Y_validation = cross_validation.train_test_split(zoo_data, zoo_target, test_size=validation_size, random_state=seed)"
   ]
  },
  {
   "cell_type": "code",
   "execution_count": 5,
   "metadata": {
    "collapsed": true
   },
   "outputs": [],
   "source": [
    "y = Y_train.ravel()\n",
    "Y_train = np.array(y).astype(int)"
   ]
  },
  {
   "cell_type": "code",
   "execution_count": 6,
   "metadata": {
    "collapsed": true
   },
   "outputs": [],
   "source": [
    "# Test options and evaluation metric\n",
    "num_folds = 10\n",
    "num_instances = len(X_train)\n",
    "seed = 7\n",
    "scoring = 'accuracy'"
   ]
  },
  {
   "cell_type": "code",
   "execution_count": 9,
   "metadata": {
    "collapsed": false
   },
   "outputs": [
    {
     "name": "stdout",
     "output_type": "stream",
     "text": [
      "Random Forest Classifier: 0.975000 (0.050000)\n",
      "[ 1.     1.     1.     1.     1.     0.875  1.     1.     0.875  1.   ]\n"
     ]
    }
   ],
   "source": [
    "model = RandomForestClassifier(class_weight='balanced')\n",
    "results = []\n",
    "names = []\n",
    "kfold = cross_validation.KFold(n=num_instances, n_folds=num_folds, random_state=seed)\n",
    "cv_results = cross_validation.cross_val_score(model, X_train, Y_train, cv=kfold, scoring=scoring)\n",
    "results.append(cv_results)\n",
    "#names.append(name)\n",
    "msg = \"%s: %f (%f)\" % ('Random Forest Classifier', cv_results.mean(), cv_results.std())\n",
    "print(msg)\n",
    "print(cv_results)\n",
    "#print(cv_results)\n",
    "#print(cross_validation.cross_val_score(model, X_train, Y_train, cv=kfold, scoring=scoring))"
   ]
  }
 ],
 "metadata": {
  "anaconda-cloud": {},
  "kernelspec": {
   "display_name": "Python [conda root]",
   "language": "python",
   "name": "conda-root-py"
  },
  "language_info": {
   "codemirror_mode": {
    "name": "ipython",
    "version": 3
   },
   "file_extension": ".py",
   "mimetype": "text/x-python",
   "name": "python",
   "nbconvert_exporter": "python",
   "pygments_lexer": "ipython3",
   "version": "3.5.2"
  }
 },
 "nbformat": 4,
 "nbformat_minor": 1
}
