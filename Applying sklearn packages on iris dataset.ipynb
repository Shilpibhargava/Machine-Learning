{
 "cells": [
  {
   "cell_type": "code",
   "execution_count": 6,
   "metadata": {
    "collapsed": false
   },
   "outputs": [
    {
     "data": {
      "text/plain": [
       "0.96666666666666667"
      ]
     },
     "execution_count": 6,
     "metadata": {},
     "output_type": "execute_result"
    }
   ],
   "source": [
    "#import pandas\n",
    "\n",
    "# url = 'https://archive.ics.uci.edu/ml/machine-learning-databases/iris/iris.data'\n",
    "# names=['sepal-length','sepal-width','petal-length','petal-width','class']\n",
    "# dataset = pandas.read_csv(url,names=names)\n",
    "\n",
    "#dataset.head(10)\n",
    "\n",
    "from sklearn import datasets\n",
    "from sklearn import cross_validation\n",
    "from sklearn import svm\n",
    "\n",
    "iris = datasets.load_iris()\n",
    "\n",
    "iris.data.shape,iris.target.shape\n",
    "\n",
    "X_train, X_test, Y_train, Y_test = cross_validation.train_test_split(iris.data,iris.target,test_size=0.4,random_state=0)\n",
    "\n",
    "X_train.shape,X_test.shape,Y_train.shape,Y_test.shape\n",
    "\n",
    "clf = svm.SVC(kernel='linear', C=1).fit(X_train, Y_train)\n",
    "clf.score(X_test, Y_test)\n",
    "\n",
    "\n",
    "\n"
   ]
  }
 ],
 "metadata": {
  "anaconda-cloud": {},
  "kernelspec": {
   "display_name": "Python [conda root]",
   "language": "python",
   "name": "conda-root-py"
  },
  "language_info": {
   "codemirror_mode": {
    "name": "ipython",
    "version": 3
   },
   "file_extension": ".py",
   "mimetype": "text/x-python",
   "name": "python",
   "nbconvert_exporter": "python",
   "pygments_lexer": "ipython3",
   "version": "3.5.2"
  }
 },
 "nbformat": 4,
 "nbformat_minor": 1
}
